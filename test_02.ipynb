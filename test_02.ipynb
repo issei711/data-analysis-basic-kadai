{
 "cells": [
  {
   "cell_type": "code",
   "execution_count": 16,
   "metadata": {},
   "outputs": [],
   "source": [
    "import pandas as pd\n",
    "\n",
    "# CSVファイルをデータフレームとして読み込み\n",
    "df = pd.read_csv(\"sample_pandas_6.csv\")\n",
    "category_df = pd.read_csv('category.csv')\n",
    "# 先頭から5行目までを表示\n",
    "df.head()\n",
    "df.query('商品番号 == \"Z4WOOIYV\"')\n",
    "df.query('単価 == 600')\n",
    "df.query('在庫 <= 5')\n",
    "df.query('商品番号 == \"8T7D5DQA\" and 在庫 <= 5')\n",
    "\n",
    "def tax(x):\n",
    "    return x * 1.10\n",
    "\n",
    "df['単価'].apply(tax)\n",
    "\n",
    "df['発注日'] = pd.to_datetime(df['発注日'])\n",
    "type(pd.to_datetime(df['発注日']).loc[0])\n",
    "\n",
    "df.agg({'発注日':['max', 'min']})\n",
    "\n",
    "tax_series = df['単価'].apply(tax)\n",
    "tax_series.name = \"単価（税込み）\"\n",
    "pd.concat([df, tax_series], axis=1)\n",
    "\n",
    "category_df\n",
    "\n",
    "df = pd.merge(df, category_df[['商品番号', 'カテゴリー']], how='inner', on='商品番号')\n",
    "df"
   ]
  }
 ],
 "metadata": {
  "kernelspec": {
   "display_name": "base",
   "language": "python",
   "name": "python3"
  },
  "language_info": {
   "codemirror_mode": {
    "name": "ipython",
    "version": 3
   },
   "file_extension": ".py",
   "mimetype": "text/x-python",
   "name": "python",
   "nbconvert_exporter": "python",
   "pygments_lexer": "ipython3",
   "version": "3.10.13"
  }
 },
 "nbformat": 4,
 "nbformat_minor": 2
}
