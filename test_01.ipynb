{
 "cells": [
  {
   "cell_type": "code",
   "execution_count": null,
   "metadata": {},
   "outputs": [],
   "source": [
    "# pandasライブラリを読み込む\n",
    "import pandas as pd\n",
    "\n",
    "# csvファイルを読み込む（データフレームとして呼び出される）\n",
    "df = pd.read_csv('train.csv')\n",
    "# 先頭から5行目までのデータを表示する\n",
    "# df.head()\n",
    "\n",
    "# df.loc[2]\n",
    "\n",
    "df.query('POSTED_BY == \"Owner\"')\n",
    "\n",
    "df.loc[[df['TARGET(PRICE_IN_LACS)'].idxmax()]]\n",
    "\n",
    "# 物件価格の最大・最小・平均を求める\n",
    "df['TARGET(PRICE_IN_LACS)'].max()\n",
    "df['TARGET(PRICE_IN_LACS)'].min()\n",
    "df['TARGET(PRICE_IN_LACS)'].mean()\n",
    "\n",
    "df['TARGET(PRICE_IN_LACS)'].describe()"
   ]
  }
 ],
 "metadata": {
  "language_info": {
   "name": "python"
  }
 },
 "nbformat": 4,
 "nbformat_minor": 2
}
